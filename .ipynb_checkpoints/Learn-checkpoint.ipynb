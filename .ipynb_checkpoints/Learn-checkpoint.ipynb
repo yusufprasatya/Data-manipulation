{
 "cells": [
  {
   "cell_type": "code",
   "execution_count": null,
   "id": "512e0b76",
   "metadata": {},
   "outputs": [],
   "source": [
    "# Variable\n",
    "# Variable names can contain alphabets, integers, and/or underscore (_) character.\n",
    "# Variable names can not begin with a number. They can only begin with a letter or an\n",
    "# underscore (_).\n",
    "# Variable names can not contain whitespaces and special characters.\n",
    "x = 10\n",
    "print(x)\n"
   ]
  },
  {
   "cell_type": "markdown",
   "id": "e562ea58",
   "metadata": {},
   "source": [
    "<!-- Aritmathic Operators -->"
   ]
  },
  {
   "cell_type": "code",
   "execution_count": 2,
   "id": "07e785dd",
   "metadata": {},
   "outputs": [
    {
     "name": "stdout",
     "output_type": "stream",
     "text": [
      "105\n"
     ]
    }
   ],
   "source": [
    "# Addition\n",
    "print(5 + 100)"
   ]
  },
  {
   "cell_type": "code",
   "execution_count": 3,
   "id": "17bd8ef9",
   "metadata": {},
   "outputs": [
    {
     "name": "stdout",
     "output_type": "stream",
     "text": [
      "4.5\n"
     ]
    }
   ],
   "source": [
    "# Substraction\n",
    "print(6.5 - 2)"
   ]
  },
  {
   "cell_type": "code",
   "execution_count": 4,
   "id": "d103a7e5",
   "metadata": {},
   "outputs": [
    {
     "name": "stdout",
     "output_type": "stream",
     "text": [
      "300\n"
     ]
    }
   ],
   "source": [
    "# Multiplication\n",
    "print(100 * 3)"
   ]
  },
  {
   "cell_type": "code",
   "execution_count": 5,
   "id": "63a1c01c",
   "metadata": {},
   "outputs": [
    {
     "name": "stdout",
     "output_type": "stream",
     "text": [
      "66.66666666666667\n"
     ]
    }
   ],
   "source": [
    "# Division\n",
    "# float division\n",
    "print(200 / 3)"
   ]
  },
  {
   "cell_type": "code",
   "execution_count": 6,
   "id": "bc7ee25d",
   "metadata": {},
   "outputs": [
    {
     "name": "stdout",
     "output_type": "stream",
     "text": [
      "66\n"
     ]
    }
   ],
   "source": [
    "# integer division\n",
    "print(200 // 3)"
   ]
  },
  {
   "cell_type": "code",
   "execution_count": 7,
   "id": "35c3190d",
   "metadata": {},
   "outputs": [
    {
     "name": "stdout",
     "output_type": "stream",
     "text": [
      "2\n"
     ]
    }
   ],
   "source": [
    "# Modulo\n",
    "print(20 % 3)"
   ]
  },
  {
   "cell_type": "code",
   "execution_count": 12,
   "id": "eae84f1b",
   "metadata": {},
   "outputs": [
    {
     "name": "stdout",
     "output_type": "stream",
     "text": [
      "Whatever\n"
     ]
    }
   ],
   "source": [
    "# COnditional\n",
    "if 5 >= 6:\n",
    "    print(\"Great 5 >= 3\")\n",
    "elif 3 == 0:\n",
    "    print(\"Great 3 == 3\")\n",
    "else:\n",
    "    print(\"Whatever\")"
   ]
  },
  {
   "cell_type": "code",
   "execution_count": 25,
   "id": "2474ae45",
   "metadata": {},
   "outputs": [
    {
     "name": "stdout",
     "output_type": "stream",
     "text": [
      "1\n",
      "2\n",
      "3\n",
      "4\n",
      "5\n",
      "6\n",
      "7\n",
      "8\n",
      "9\n",
      "10\n"
     ]
    }
   ],
   "source": [
    "#For Loop\n",
    "# for i in range(0,20, 5):\n",
    "#     print(i)\n",
    "\n",
    "# While Loop\n",
    "i = 1\n",
    "while i <= 10:\n",
    "    print(i)\n",
    "    i += 1"
   ]
  },
  {
   "cell_type": "code",
   "execution_count": 33,
   "id": "9d37ae80",
   "metadata": {},
   "outputs": [
    {
     "name": "stdout",
     "output_type": "stream",
     "text": [
      "['Rose', 'Lily', 'Tulip']\n",
      "Rose\n",
      "['Lily', 'Tulip']\n",
      "Rose\n",
      "Lily\n",
      "Tulip\n"
     ]
    }
   ],
   "source": [
    "# List\n",
    "flowerList = [\"Rose\", \"Lily\",\"Tulip\"]\n",
    "print(flowerList)\n",
    "\n",
    "# get list by index\n",
    "firstFlower = flowerList[0]\n",
    "print(firstFlower)\n",
    "\n",
    "# slicing list\n",
    "lastTwoElements = flowerList[1:3]\n",
    "print(lastTwoElements)\n",
    "\n",
    "# loop list\n",
    "for i in flowerList:\n",
    "    print(i)"
   ]
  },
  {
   "cell_type": "code",
   "execution_count": 41,
   "id": "69324391",
   "metadata": {},
   "outputs": [
    {
     "name": "stdout",
     "output_type": "stream",
     "text": [
      "Muhammad Yusuf\n",
      "22\n",
      "Jln Taqwa\n"
     ]
    }
   ],
   "source": [
    "# Dictiniories\n",
    "data = {\"name\":\"Muhammad Yusuf\", \"age\":\"22\", \"address\":\"Jln Taqwa\"}\n",
    "name = data[\"name\"]\n",
    "age = data[\"age\"]\n",
    "address = data[\"address\"]\n",
    "print(name)\n",
    "print(age)\n",
    "print(address)"
   ]
  },
  {
   "cell_type": "code",
   "execution_count": 45,
   "id": "4513fe18",
   "metadata": {},
   "outputs": [
    {
     "name": "stdout",
     "output_type": "stream",
     "text": [
      "Muhammad Yusuf\n",
      "22\n",
      "Jln Taqwa\n"
     ]
    }
   ],
   "source": [
    "# Loop dictionaries\n",
    "data = {\"name\":\"Muhammad Yusuf\", \"age\":\"22\", \"address\":\"Jln Taqwa\"}\n",
    "for key in data:\n",
    "    print(data[key])"
   ]
  },
  {
   "cell_type": "code",
   "execution_count": 49,
   "id": "c048771c",
   "metadata": {},
   "outputs": [
    {
     "name": "stdout",
     "output_type": "stream",
     "text": [
      "Rose\n",
      "Lily\n",
      "Tulip\n"
     ]
    }
   ],
   "source": [
    "# Tuple\n",
    "flowerTuple = (\"Rose\", \"Lily\", \"Tulip\")\n",
    "for item in flowerTuple:\n",
    "    print(item)\n"
   ]
  },
  {
   "cell_type": "code",
   "execution_count": 50,
   "id": "82ce782e",
   "metadata": {},
   "outputs": [],
   "source": [
    "# User defiune function\n",
    "def AddNumber(x,y):\n",
    "    sum = x + y\n",
    "    return sum"
   ]
  },
  {
   "cell_type": "code",
   "execution_count": 52,
   "id": "0ca83b4a",
   "metadata": {},
   "outputs": [
    {
     "name": "stdout",
     "output_type": "stream",
     "text": [
      "50\n"
     ]
    }
   ],
   "source": [
    "sumNumber = AddNumber(30,20)\n",
    "print(sumNumber)"
   ]
  },
  {
   "cell_type": "code",
   "execution_count": 53,
   "id": "e1f82a01",
   "metadata": {},
   "outputs": [],
   "source": [
    "# Return more than one \n",
    "def incrementByTwo(x,y):\n",
    "    x = x + 2\n",
    "    y = y + 2\n",
    "    return x,y"
   ]
  },
  {
   "cell_type": "code",
   "execution_count": 56,
   "id": "2ce12afa",
   "metadata": {},
   "outputs": [
    {
     "name": "stdout",
     "output_type": "stream",
     "text": [
      "22\n",
      "12\n"
     ]
    }
   ],
   "source": [
    "num1, num2 = incrementByTwo(20,10)\n",
    "print(num1)\n",
    "print(num2)"
   ]
  }
 ],
 "metadata": {
  "kernelspec": {
   "display_name": "Python 3 (ipykernel)",
   "language": "python",
   "name": "python3"
  },
  "language_info": {
   "codemirror_mode": {
    "name": "ipython",
    "version": 3
   },
   "file_extension": ".py",
   "mimetype": "text/x-python",
   "name": "python",
   "nbconvert_exporter": "python",
   "pygments_lexer": "ipython3",
   "version": "3.9.7"
  }
 },
 "nbformat": 4,
 "nbformat_minor": 5
}
