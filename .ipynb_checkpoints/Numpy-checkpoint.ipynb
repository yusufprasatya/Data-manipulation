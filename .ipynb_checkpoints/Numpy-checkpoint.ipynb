{
 "cells": [
  {
   "cell_type": "code",
   "execution_count": 1,
   "id": "d7ef87b9",
   "metadata": {},
   "outputs": [],
   "source": [
    "import numpy as np"
   ]
  },
  {
   "cell_type": "code",
   "execution_count": 4,
   "id": "bb79f9c8",
   "metadata": {},
   "outputs": [
    {
     "name": "stdout",
     "output_type": "stream",
     "text": [
      "[1 2 3 4 5]\n"
     ]
    }
   ],
   "source": [
    "# One dimensional array\n",
    "oneDarray = np.array([1,2,3,4,5])\n",
    "print(oneDarray)"
   ]
  },
  {
   "cell_type": "code",
   "execution_count": 5,
   "id": "0bb6be93",
   "metadata": {},
   "outputs": [
    {
     "name": "stdout",
     "output_type": "stream",
     "text": [
      "1\n"
     ]
    }
   ],
   "source": [
    "print(oneDarray.ndim)"
   ]
  },
  {
   "cell_type": "code",
   "execution_count": 11,
   "id": "b3863154",
   "metadata": {},
   "outputs": [
    {
     "name": "stdout",
     "output_type": "stream",
     "text": [
      "[[1 2 3 4 5 6]\n",
      " [1 2 3 4 5 6]]\n",
      "2\n"
     ]
    }
   ],
   "source": [
    "# Two dimensional array\n",
    "twoDarray = np.array([[1,2,3,4,5,6],[1,4,5,6]])\n",
    "print(twoDarray)\n",
    "print(twoDarray.ndim)"
   ]
  },
  {
   "cell_type": "code",
   "execution_count": 17,
   "id": "eb14f476",
   "metadata": {},
   "outputs": [
    {
     "name": "stdout",
     "output_type": "stream",
     "text": [
      "[[[ 1  2  3]\n",
      "  [-1 -2 -3]]\n",
      "\n",
      " [[ 4  5  6]\n",
      "  [-4 -5 -6]]]\n"
     ]
    }
   ],
   "source": [
    "# Three dimensional array\n",
    "threeDarray = np.array([[[1,2,3], [-1,-2,-3]], [[4,5,6], [-4,-5,-6]]])\n",
    "print(threeDarray)"
   ]
  },
  {
   "cell_type": "code",
   "execution_count": 19,
   "id": "615241a7",
   "metadata": {},
   "outputs": [
    {
     "name": "stdout",
     "output_type": "stream",
     "text": [
      "3\n"
     ]
    }
   ],
   "source": [
    "print(threeDarray.ndim)"
   ]
  },
  {
   "cell_type": "code",
   "execution_count": 24,
   "id": "8e8139cb",
   "metadata": {},
   "outputs": [
    {
     "name": "stdout",
     "output_type": "stream",
     "text": [
      "[[1 2 3]\n",
      " [4 5 6]]\n"
     ]
    }
   ],
   "source": [
    "# indexing numpay array\n",
    "twoDarray = np.array([[1,2,3],[4,5,6]])\n",
    "print(twoDarray)"
   ]
  },
  {
   "cell_type": "code",
   "execution_count": 26,
   "id": "30e981de",
   "metadata": {},
   "outputs": [
    {
     "name": "stdout",
     "output_type": "stream",
     "text": [
      "[1 2 3]\n"
     ]
    }
   ],
   "source": [
    "print(twoDarray[0])"
   ]
  },
  {
   "cell_type": "code",
   "execution_count": 27,
   "id": "3ac475d4",
   "metadata": {},
   "outputs": [
    {
     "name": "stdout",
     "output_type": "stream",
     "text": [
      "3\n"
     ]
    }
   ],
   "source": [
    "print(twoDarray[0,2])"
   ]
  },
  {
   "cell_type": "code",
   "execution_count": 32,
   "id": "f6e0c895",
   "metadata": {},
   "outputs": [
    {
     "name": "stdout",
     "output_type": "stream",
     "text": [
      "[[[ 1  2  3]\n",
      "  [-1 -2 -3]]\n",
      "\n",
      " [[ 4  5  6]\n",
      "  [-4 -5 -6]]]\n"
     ]
    }
   ],
   "source": [
    "# Three D array\n",
    "print(threeDarray)"
   ]
  },
  {
   "cell_type": "code",
   "execution_count": 34,
   "id": "f55b90c5",
   "metadata": {},
   "outputs": [
    {
     "name": "stdout",
     "output_type": "stream",
     "text": [
      "[[ 4  5  6]\n",
      " [-4 -5 -6]]\n"
     ]
    }
   ],
   "source": [
    "print(threeDarray[1])"
   ]
  },
  {
   "cell_type": "code",
   "execution_count": 35,
   "id": "457f84f1",
   "metadata": {},
   "outputs": [
    {
     "name": "stdout",
     "output_type": "stream",
     "text": [
      "-4\n"
     ]
    }
   ],
   "source": [
    "print(threeDarray[1,1,0])"
   ]
  },
  {
   "cell_type": "code",
   "execution_count": 37,
   "id": "6375dafd",
   "metadata": {},
   "outputs": [
    {
     "name": "stdout",
     "output_type": "stream",
     "text": [
      "[[1 2 3]\n",
      " [4 5 6]]\n",
      "[1 2 3]\n",
      "[4 5 6]\n"
     ]
    }
   ],
   "source": [
    "# Iterates 2d numpy array\n",
    "print(twoDarray)\n",
    "for i in twoDarray:\n",
    "    print(i)"
   ]
  },
  {
   "cell_type": "code",
   "execution_count": 38,
   "id": "8d911bfd",
   "metadata": {},
   "outputs": [
    {
     "name": "stdout",
     "output_type": "stream",
     "text": [
      "1\n",
      "2\n",
      "3\n",
      "4\n",
      "5\n",
      "6\n"
     ]
    }
   ],
   "source": [
    "# Make every element on 1 d array iterate\n",
    "for i in twoDarray:\n",
    "    for j in i:\n",
    "        print(j)"
   ]
  },
  {
   "cell_type": "code",
   "execution_count": 42,
   "id": "d8664a12",
   "metadata": {},
   "outputs": [
    {
     "name": "stdout",
     "output_type": "stream",
     "text": [
      "[[ 1  2  3]\n",
      " [-1 -2 -3]]\n",
      "[[ 4  5  6]\n",
      " [-4 -5 -6]]\n"
     ]
    }
   ],
   "source": [
    "# Iterates 3D numpy array\n",
    "# print(threeDarray)\n",
    "for i in threeDarray:\n",
    "    print(i)"
   ]
  },
  {
   "cell_type": "code",
   "execution_count": 43,
   "id": "c50bdf5c",
   "metadata": {},
   "outputs": [
    {
     "name": "stdout",
     "output_type": "stream",
     "text": [
      "1\n",
      "2\n",
      "3\n",
      "-1\n",
      "-2\n",
      "-3\n",
      "4\n",
      "5\n",
      "6\n",
      "-4\n",
      "-5\n",
      "-6\n"
     ]
    }
   ],
   "source": [
    "for i in threeDarray:\n",
    "    for j in i:\n",
    "        for k in j:\n",
    "            print(k)"
   ]
  },
  {
   "cell_type": "code",
   "execution_count": 46,
   "id": "f6ff064d",
   "metadata": {},
   "outputs": [
    {
     "name": "stdout",
     "output_type": "stream",
     "text": [
      "[0. 0. 0. 0. 0.]\n",
      "[0 0 0 0 0]\n"
     ]
    }
   ],
   "source": [
    "# Create prefilled array with zero\n",
    "zeroArray = np.zeros(5)\n",
    "print(zeroArray)\n",
    "\n",
    "# convert to integer value\n",
    "zeroArray = zeroArray.astype(int)\n",
    "print(zeroArray)"
   ]
  },
  {
   "cell_type": "code",
   "execution_count": 50,
   "id": "8d2d1d6d",
   "metadata": {},
   "outputs": [
    {
     "name": "stdout",
     "output_type": "stream",
     "text": [
      "[1. 1. 1. 1. 1. 1. 1. 1. 1. 1.]\n",
      "[1 1 1 1 1 1 1 1 1 1]\n"
     ]
    }
   ],
   "source": [
    "# Create prefilled array with one\n",
    "oneArray = np.ones(10)\n",
    "print(oneArray)\n",
    "\n",
    "# convert to integer value\n",
    "oneArray = oneArray.astype(int)\n",
    "print(oneArray)"
   ]
  },
  {
   "cell_type": "code",
   "execution_count": 51,
   "id": "a4de98f5",
   "metadata": {},
   "outputs": [
    {
     "name": "stdout",
     "output_type": "stream",
     "text": [
      "[2 2 2 2 2]\n"
     ]
    }
   ],
   "source": [
    "preFilledArray = np.full(5 ,2)\n",
    "print(preFilledArray)"
   ]
  },
  {
   "cell_type": "code",
   "execution_count": 56,
   "id": "c91dbda0",
   "metadata": {},
   "outputs": [
    {
     "name": "stdout",
     "output_type": "stream",
     "text": [
      "[]\n",
      "[9 9 9 9 9 9 9 9 9]\n"
     ]
    }
   ],
   "source": [
    "arrays = np.array([])\n",
    "print(arrays)\n",
    "\n",
    "for i in range(0,10):\n",
    "    arrays = np.full(i,i)\n",
    "    \n",
    "print(arrays)"
   ]
  },
  {
   "cell_type": "code",
   "execution_count": 58,
   "id": "1d80c15f",
   "metadata": {},
   "outputs": [
    {
     "name": "stdout",
     "output_type": "stream",
     "text": [
      "[[1 2 3]\n",
      " [4 5 6]]\n"
     ]
    }
   ],
   "source": [
    "matrix = np.array([[1,2,3],[4,5,6]])\n",
    "print(matrix)"
   ]
  },
  {
   "cell_type": "code",
   "execution_count": 60,
   "id": "6fec98ca",
   "metadata": {},
   "outputs": [
    {
     "name": "stdout",
     "output_type": "stream",
     "text": [
      "[[3 4 5]\n",
      " [6 7 8]]\n"
     ]
    }
   ],
   "source": [
    "# Adding a scalar\n",
    "print(matrix + 2)"
   ]
  },
  {
   "cell_type": "code",
   "execution_count": 61,
   "id": "d7ab9af9",
   "metadata": {},
   "outputs": [
    {
     "name": "stdout",
     "output_type": "stream",
     "text": [
      "[[0 1 2]\n",
      " [3 4 5]]\n"
     ]
    }
   ],
   "source": [
    "# Substract a scalar\n",
    "print(matrix - 1)"
   ]
  },
  {
   "cell_type": "code",
   "execution_count": 65,
   "id": "0e638ca8",
   "metadata": {},
   "outputs": [
    {
     "name": "stdout",
     "output_type": "stream",
     "text": [
      "[[10 20 30]\n",
      " [40 50 60]]\n",
      "[[1, 2, 3], [4, 5, 6], [1, 2, 3], [4, 5, 6], [1, 2, 3], [4, 5, 6], [1, 2, 3], [4, 5, 6], [1, 2, 3], [4, 5, 6], [1, 2, 3], [4, 5, 6], [1, 2, 3], [4, 5, 6], [1, 2, 3], [4, 5, 6], [1, 2, 3], [4, 5, 6], [1, 2, 3], [4, 5, 6]]\n"
     ]
    }
   ],
   "source": [
    "# Multiplying a scalar\n",
    "print(matrix * 10)\n",
    "\n",
    "pyList = [[1,2,3],[4,5,6]]\n",
    "print(pyList * 10)"
   ]
  },
  {
   "cell_type": "code",
   "execution_count": 66,
   "id": "bdd6663e",
   "metadata": {},
   "outputs": [
    {
     "name": "stdout",
     "output_type": "stream",
     "text": [
      "[[0.5 1.  1.5]\n",
      " [2.  2.5 3. ]]\n"
     ]
    }
   ],
   "source": [
    "# Dividing a scalar\n",
    "print(matrix / 2)"
   ]
  },
  {
   "cell_type": "code",
   "execution_count": 67,
   "id": "90a28091",
   "metadata": {},
   "outputs": [
    {
     "name": "stdout",
     "output_type": "stream",
     "text": [
      "[[0 1 1]\n",
      " [2 2 3]]\n"
     ]
    }
   ],
   "source": [
    "# Dividing a scalar\n",
    "print(matrix // 2)"
   ]
  },
  {
   "cell_type": "code",
   "execution_count": 68,
   "id": "f51ffff4",
   "metadata": {},
   "outputs": [
    {
     "name": "stdout",
     "output_type": "stream",
     "text": [
      "[[       1     1024    59049]\n",
      " [ 1048576  9765625 60466176]]\n"
     ]
    }
   ],
   "source": [
    "# Square a scalar\n",
    "print(matrix ** 10)"
   ]
  },
  {
   "cell_type": "code",
   "execution_count": 69,
   "id": "40ea1818",
   "metadata": {},
   "outputs": [
    {
     "name": "stdout",
     "output_type": "stream",
     "text": [
      "[[1 4]\n",
      " [2 5]\n",
      " [3 6]]\n"
     ]
    }
   ],
   "source": [
    "# Tranpose a scalar\n",
    "print(matrix.T)"
   ]
  },
  {
   "cell_type": "code",
   "execution_count": 73,
   "id": "87b67319",
   "metadata": {},
   "outputs": [
    {
     "name": "stdout",
     "output_type": "stream",
     "text": [
      "[[1, 2, 3], [4, 5, 6], [-1, -2, -3], [-4, -5, 6]]\n"
     ]
    }
   ],
   "source": [
    "# Element wise addition numpy\n",
    "matrix1 = np,array([[1,2,3],[4,5,6]])\n",
    "matrix2 = [[-1,-2,-3],[-4,-5,6]]\n",
    "print(matrix1 + matrix2)"
   ]
  }
 ],
 "metadata": {
  "kernelspec": {
   "display_name": "Python 3 (ipykernel)",
   "language": "python",
   "name": "python3"
  },
  "language_info": {
   "codemirror_mode": {
    "name": "ipython",
    "version": 3
   },
   "file_extension": ".py",
   "mimetype": "text/x-python",
   "name": "python",
   "nbconvert_exporter": "python",
   "pygments_lexer": "ipython3",
   "version": "3.9.7"
  }
 },
 "nbformat": 4,
 "nbformat_minor": 5
}
